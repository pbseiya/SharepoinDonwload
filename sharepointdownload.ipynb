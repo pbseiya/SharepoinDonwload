{
 "cells": [
  {
   "cell_type": "code",
   "execution_count": 1,
   "metadata": {},
   "outputs": [
    {
     "name": "stdout",
     "output_type": "stream",
     "text": [
      "2023-02-17 15:22:38.498813\n"
     ]
    }
   ],
   "source": [
    "import pandas as pd\n",
    "import numpy as np\n",
    "import pyodbc\n",
    "import os\n",
    "t_start0 = pd.Timestamp.now()\n",
    "print(t_start0)"
   ]
  },
  {
   "cell_type": "code",
   "execution_count": 2,
   "metadata": {},
   "outputs": [],
   "source": [
    "def rmmk(dir): # remove exiting folder and remake folder\n",
    "    import os\n",
    "    import shutil\n",
    "\n",
    "    if os.path.exists(dir):\n",
    "        shutil.rmtree(dir)\n",
    "    os.makedirs(dir)"
   ]
  },
  {
   "cell_type": "code",
   "execution_count": 3,
   "metadata": {},
   "outputs": [],
   "source": [
    "def printAllContents(ctx, relativeUrl):\n",
    "\n",
    "    try:\n",
    "        \n",
    "        libraryRoot = ctx.web.get_folder_by_server_relative_url(relativeUrl)\n",
    "        ctx.load(libraryRoot)\n",
    "        ctx.execute_query()\n",
    "\n",
    "        folders = libraryRoot.folders\n",
    "        ctx.load(folders)\n",
    "        ctx.execute_query()\n",
    "\n",
    "        for myfolder in folders:\n",
    "            #print(\"Folder name: {0}\".format(myfolder.properties[\"Name\"]))\n",
    "            print(\"Folder name: {0}\".format(myfolder.properties[\"ServerRelativeUrl\"]))\n",
    "            printAllContents(ctx, relativeUrl + '/' + myfolder.properties[\"Name\"])\n",
    "            \n",
    "        files = libraryRoot.files\n",
    "        ctx.load(files)\n",
    "        ctx.execute_query()\n",
    "\n",
    "        for myfile in files:\n",
    "            print(\"File name: {0}\".format(myfile.properties[\"ServerRelativeUrl\"]))\n",
    "            pathList = myfile.properties[\"ServerRelativeUrl\"].split('/')\n",
    "            fileDest = outputDir + \"/\"+ pathList[-1]\n",
    "            downloadFile(ctx, fileDest, myfile.properties[\"ServerRelativeUrl\"])\n",
    "            \n",
    "    except:\n",
    "        \n",
    "        print('Problem printing out list of folders')   \n",
    "        sys.exit(1)  "
   ]
  },
  {
   "cell_type": "code",
   "execution_count": 4,
   "metadata": {},
   "outputs": [],
   "source": [
    "def save_txt(src,dst):\n",
    "    with open(os.path.join(dst), 'a', encoding ='utf8') as txt_file:\n",
    "            txt_file.write(src+'\\n')"
   ]
  },
  {
   "cell_type": "code",
   "execution_count": 5,
   "metadata": {},
   "outputs": [
    {
     "data": {
      "application/vnd.jupyter.widget-view+json": {
       "model_id": "ca630f10872649dba0a515053e2cb6ba",
       "version_major": 2,
       "version_minor": 0
      },
      "text/plain": [
       "  0%|          | 0/100 [00:00<?, ?it/s]"
      ]
     },
     "metadata": {},
     "output_type": "display_data"
    },
    {
     "name": "stdout",
     "output_type": "stream",
     "text": [
      "Folder url: /sites/FLEQBOM/Shared Documents/ที่มาที่ไป\n",
      "Folder url: /sites/FLEQBOM/Shared Documents/SAP_connection\n",
      "Folder url: /sites/FLEQBOM/Shared Documents/Exported\n",
      "Folder url: /sites/FLEQBOM/Shared Documents/Form\n",
      "Folder url: /sites/FLEQBOM/Shared Documents/old_4users\n",
      "Folder url: /sites/FLEQBOM/Shared Documents/Plan\n",
      "Folder url: /sites/FLEQBOM/Shared Documents/4users\n",
      "Folder url: /sites/FLEQBOM/Shared Documents/User_keydata\n",
      "Folder url: /sites/FLEQBOM/Shared Documents/User_keydata/-\n",
      "Folder url: /sites/FLEQBOM/Shared Documents/User_keydata/11E\n",
      "Folder url: /sites/FLEQBOM/Shared Documents/User_keydata/11I\n",
      "Folder url: /sites/FLEQBOM/Shared Documents/User_keydata/11M\n",
      "Folder url: /sites/FLEQBOM/Shared Documents/User_keydata/12E\n",
      "Folder url: /sites/FLEQBOM/Shared Documents/User_keydata/12I\n",
      "Folder url: /sites/FLEQBOM/Shared Documents/User_keydata/13E\n",
      "Folder url: /sites/FLEQBOM/Shared Documents/User_keydata/13I\n",
      "Folder url: /sites/FLEQBOM/Shared Documents/User_keydata/13M\n",
      "Folder url: /sites/FLEQBOM/Shared Documents/User_keydata/14E\n",
      "Folder url: /sites/FLEQBOM/Shared Documents/User_keydata/14M\n",
      "Folder url: /sites/FLEQBOM/Shared Documents/User_keydata/15C\n",
      "Folder url: /sites/FLEQBOM/Shared Documents/User_keydata/21E\n",
      "Folder url: /sites/FLEQBOM/Shared Documents/User_keydata/21I\n",
      "Folder url: /sites/FLEQBOM/Shared Documents/User_keydata/21M\n",
      "Folder url: /sites/FLEQBOM/Shared Documents/User_keydata/23M\n",
      "Folder url: /sites/FLEQBOM/Shared Documents/User_keydata/2EC\n",
      "Folder url: /sites/FLEQBOM/Shared Documents/User_keydata/2EH\n",
      "Folder url: /sites/FLEQBOM/Shared Documents/User_keydata/2IA\n",
      "Folder url: /sites/FLEQBOM/Shared Documents/User_keydata/2M3\n",
      "Folder url: /sites/FLEQBOM/Shared Documents/User_keydata/2M4\n",
      "Folder url: /sites/FLEQBOM/Shared Documents/User_keydata/AYM\n",
      "Folder url: /sites/FLEQBOM/Shared Documents/User_keydata/CAN\n",
      "Folder url: /sites/FLEQBOM/Shared Documents/User_keydata/CCH\n",
      "Folder url: /sites/FLEQBOM/Shared Documents/User_keydata/CCS\n",
      "Folder url: /sites/FLEQBOM/Shared Documents/User_keydata/CES\n",
      "Folder url: /sites/FLEQBOM/Shared Documents/User_keydata/CMC\n",
      "Folder url: /sites/FLEQBOM/Shared Documents/User_keydata/CPM\n",
      "Folder url: /sites/FLEQBOM/Shared Documents/User_keydata/CRE\n",
      "Folder url: /sites/FLEQBOM/Shared Documents/User_keydata/CSP\n",
      "Folder url: /sites/FLEQBOM/Shared Documents/User_keydata/ENC\n",
      "Folder url: /sites/FLEQBOM/Shared Documents/User_keydata/ENE\n",
      "Folder url: /sites/FLEQBOM/Shared Documents/User_keydata/IRI\n",
      "Folder url: /sites/FLEQBOM/Shared Documents/User_keydata/MCV\n",
      "Folder url: /sites/FLEQBOM/Shared Documents/User_keydata/MEW\n",
      "Folder url: /sites/FLEQBOM/Shared Documents/User_keydata/MSW\n",
      "Folder url: /sites/FLEQBOM/Shared Documents/User_keydata/PDM\n",
      "Folder url: /sites/FLEQBOM/Shared Documents/User_keydata/POL\n",
      "Folder url: /sites/FLEQBOM/Shared Documents/User_keydata/PP1\n",
      "Folder url: /sites/FLEQBOM/Shared Documents/User_keydata/PP2\n",
      "Folder url: /sites/FLEQBOM/Shared Documents/User_keydata/PPM\n",
      "Folder url: /sites/FLEQBOM/Shared Documents/User_keydata/PS1\n",
      "Folder url: /sites/FLEQBOM/Shared Documents/User_keydata/PS2\n",
      "Folder url: /sites/FLEQBOM/Shared Documents/User_keydata/RLB\n",
      "Folder url: /sites/FLEQBOM/Shared Documents/User_keydata/RPW\n",
      "Folder url: /sites/FLEQBOM/Shared Documents/User_keydata/RRC\n",
      "Folder url: /sites/FLEQBOM/Shared Documents/User_keydata/RRE\n",
      "Folder url: /sites/FLEQBOM/Shared Documents/User_keydata/RTP\n",
      "Folder url: /sites/FLEQBOM/Shared Documents/User_keydata/S24\n",
      "Folder url: /sites/FLEQBOM/Shared Documents/User_keydata/SKT\n",
      "Folder url: /sites/FLEQBOM/Shared Documents/แผนงาน\n",
      "File url: /sites/FLEQBOM/Shared Documents/Plan/2023FLEQBOM_Sch.xlsx\n",
      "File url: /sites/FLEQBOM/Shared Documents/ที่มาที่ไป/OEMS-RAI Workshop@15Dec22_r1.pptx\n",
      "File url: /sites/FLEQBOM/Shared Documents/IW39-BOM01.12.2022(1).xlsx\n",
      "File url: /sites/FLEQBOM/Shared Documents/SAP_connection/Connect_RPAII_IH06-IH08.xlsx\n",
      "File url: /sites/FLEQBOM/Shared Documents/SAP_connection/00_SQL_Server_T_Code_RPA.xlsx\n",
      "File url: /sites/FLEQBOM/Shared Documents/SAP_connection/01_Data_Dictionary.xlsx\n",
      "File url: /sites/FLEQBOM/Shared Documents/ที่มาที่ไป/OEMS-RAI Workshop@15Dec22_r2.pptx\n",
      "File url: /sites/FLEQBOM/Shared Documents/Exported/eq_which_still_number.xlsx\n",
      "File url: /sites/FLEQBOM/Shared Documents/Form/10350000F-009_REV0_1_2566-01-05T13_26_34.xlsx\n",
      "File url: /sites/FLEQBOM/Shared Documents/old_4users/-.xlsx\n",
      "File url: /sites/FLEQBOM/Shared Documents/old_4users/11I.xlsx\n",
      "File url: /sites/FLEQBOM/Shared Documents/old_4users/11E.xlsx\n",
      "File url: /sites/FLEQBOM/Shared Documents/old_4users/11M.xlsx\n",
      "File url: /sites/FLEQBOM/Shared Documents/old_4users/12E.xlsx\n",
      "File url: /sites/FLEQBOM/Shared Documents/old_4users/12I.xlsx\n",
      "File url: /sites/FLEQBOM/Shared Documents/old_4users/13E.xlsx\n",
      "File url: /sites/FLEQBOM/Shared Documents/old_4users/13M.xlsx\n",
      "File url: /sites/FLEQBOM/Shared Documents/old_4users/13I.xlsx\n",
      "File url: /sites/FLEQBOM/Shared Documents/old_4users/14E.xlsx\n",
      "File url: /sites/FLEQBOM/Shared Documents/old_4users/15C.xlsx\n",
      "File url: /sites/FLEQBOM/Shared Documents/old_4users/14M.xlsx\n",
      "File url: /sites/FLEQBOM/Shared Documents/old_4users/21E.xlsx\n",
      "File url: /sites/FLEQBOM/Shared Documents/old_4users/21I.xlsx\n",
      "File url: /sites/FLEQBOM/Shared Documents/old_4users/21M.xlsx\n",
      "File url: /sites/FLEQBOM/Shared Documents/old_4users/23M.xlsx\n",
      "File url: /sites/FLEQBOM/Shared Documents/old_4users/2EC.xlsx\n",
      "File url: /sites/FLEQBOM/Shared Documents/old_4users/2EH.xlsx\n",
      "File url: /sites/FLEQBOM/Shared Documents/old_4users/2IA.xlsx\n",
      "File url: /sites/FLEQBOM/Shared Documents/old_4users/2M3.xlsx\n",
      "File url: /sites/FLEQBOM/Shared Documents/old_4users/AYM.xlsx\n",
      "File url: /sites/FLEQBOM/Shared Documents/old_4users/2M4.xlsx\n",
      "File url: /sites/FLEQBOM/Shared Documents/old_4users/CAN.xlsx\n",
      "File url: /sites/FLEQBOM/Shared Documents/old_4users/CCH.xlsx\n",
      "File url: /sites/FLEQBOM/Shared Documents/old_4users/CCS.xlsx\n",
      "File url: /sites/FLEQBOM/Shared Documents/old_4users/CMC.xlsx\n",
      "File url: /sites/FLEQBOM/Shared Documents/old_4users/CES.xlsx\n",
      "File url: /sites/FLEQBOM/Shared Documents/old_4users/CPM.xlsx\n",
      "File url: /sites/FLEQBOM/Shared Documents/old_4users/CRE.xlsx\n",
      "File url: /sites/FLEQBOM/Shared Documents/old_4users/ENC.xlsx\n",
      "File url: /sites/FLEQBOM/Shared Documents/old_4users/ENE.xlsx\n",
      "File url: /sites/FLEQBOM/Shared Documents/old_4users/CSP.xlsx\n",
      "File url: /sites/FLEQBOM/Shared Documents/old_4users/MCV.xlsx\n",
      "File url: /sites/FLEQBOM/Shared Documents/old_4users/IRI.xlsx\n",
      "File url: /sites/FLEQBOM/Shared Documents/old_4users/MEW.xlsx\n",
      "File url: /sites/FLEQBOM/Shared Documents/old_4users/MSW.xlsx\n",
      "File url: /sites/FLEQBOM/Shared Documents/old_4users/PDM.xlsx\n",
      "File url: /sites/FLEQBOM/Shared Documents/old_4users/POL.xlsx\n",
      "File url: /sites/FLEQBOM/Shared Documents/old_4users/PP1.xlsx\n",
      "File url: /sites/FLEQBOM/Shared Documents/old_4users/PP2.xlsx\n",
      "File url: /sites/FLEQBOM/Shared Documents/old_4users/PPM.xlsx\n",
      "File url: /sites/FLEQBOM/Shared Documents/old_4users/PS1.xlsx\n",
      "File url: /sites/FLEQBOM/Shared Documents/old_4users/RLB.xlsx\n",
      "File url: /sites/FLEQBOM/Shared Documents/old_4users/PS2.xlsx\n",
      "File url: /sites/FLEQBOM/Shared Documents/old_4users/fleq_multisheet.xlsx\n",
      "File url: /sites/FLEQBOM/Shared Documents/old_4users/RPW.xlsx\n",
      "File url: /sites/FLEQBOM/Shared Documents/old_4users/RRC.xlsx\n",
      "File url: /sites/FLEQBOM/Shared Documents/old_4users/S24.xlsx\n",
      "File url: /sites/FLEQBOM/Shared Documents/old_4users/RTP.xlsx\n",
      "File url: /sites/FLEQBOM/Shared Documents/old_4users/RRE.xlsx\n",
      "File url: /sites/FLEQBOM/Shared Documents/old_4users/SKT.xlsx\n",
      "File url: /sites/FLEQBOM/Shared Documents/Plan/fleqmpmibom_sch_r0.xlsx\n",
      "File url: /sites/FLEQBOM/Shared Documents/4users/fleq_multisheet.xlsx\n",
      "File url: /sites/FLEQBOM/Shared Documents/Form/10350000F-007_REV0 แบบฟอร์ม Template FL&EQ_1_2566-01-24T08_55_17.xlsx\n",
      "File url: /sites/FLEQBOM/Shared Documents/Form/Template_BOM_2566-01-24T09_41_48.xlsx\n",
      "File url: /sites/FLEQBOM/Shared Documents/User_keydata/-/-.xlsx\n",
      "File url: /sites/FLEQBOM/Shared Documents/User_keydata/11E/11E.xlsx\n",
      "File url: /sites/FLEQBOM/Shared Documents/User_keydata/11I/11I.xlsx\n",
      "File url: /sites/FLEQBOM/Shared Documents/User_keydata/11M/11M.xlsx\n",
      "File url: /sites/FLEQBOM/Shared Documents/User_keydata/12E/12E.xlsx\n",
      "File url: /sites/FLEQBOM/Shared Documents/User_keydata/12I/12I.xlsx\n",
      "File url: /sites/FLEQBOM/Shared Documents/User_keydata/13E/13E.xlsx\n",
      "File url: /sites/FLEQBOM/Shared Documents/User_keydata/13I/13I.xlsx\n",
      "File url: /sites/FLEQBOM/Shared Documents/User_keydata/13M/13M.xlsx\n",
      "File url: /sites/FLEQBOM/Shared Documents/User_keydata/14E/14E.xlsx\n",
      "File url: /sites/FLEQBOM/Shared Documents/User_keydata/14M/14M.xlsx\n",
      "File url: /sites/FLEQBOM/Shared Documents/User_keydata/15C/15C.xlsx\n",
      "File url: /sites/FLEQBOM/Shared Documents/User_keydata/21E/21E.xlsx\n",
      "File url: /sites/FLEQBOM/Shared Documents/User_keydata/21I/21I.xlsx\n",
      "File url: /sites/FLEQBOM/Shared Documents/User_keydata/21M/21M.xlsx\n",
      "File url: /sites/FLEQBOM/Shared Documents/User_keydata/23M/23M.xlsx\n",
      "File url: /sites/FLEQBOM/Shared Documents/User_keydata/2EC/2EC.xlsx\n",
      "File url: /sites/FLEQBOM/Shared Documents/User_keydata/2EH/2EH.xlsx\n",
      "File url: /sites/FLEQBOM/Shared Documents/User_keydata/2IA/2IA.xlsx\n",
      "File url: /sites/FLEQBOM/Shared Documents/User_keydata/2M3/2M3.xlsx\n",
      "File url: /sites/FLEQBOM/Shared Documents/User_keydata/2M4/2M4.xlsx\n",
      "File url: /sites/FLEQBOM/Shared Documents/User_keydata/AYM/AYM.xlsx\n",
      "File url: /sites/FLEQBOM/Shared Documents/User_keydata/CAN/CAN.xlsx\n",
      "File url: /sites/FLEQBOM/Shared Documents/User_keydata/CCH/CCH.xlsx\n",
      "File url: /sites/FLEQBOM/Shared Documents/User_keydata/CCS/CCS.xlsx\n",
      "File url: /sites/FLEQBOM/Shared Documents/User_keydata/CES/CES.xlsx\n",
      "File url: /sites/FLEQBOM/Shared Documents/User_keydata/CMC/CMC.xlsx\n",
      "File url: /sites/FLEQBOM/Shared Documents/User_keydata/CPM/CPM.xlsx\n",
      "File url: /sites/FLEQBOM/Shared Documents/User_keydata/CRE/CRE.xlsx\n",
      "File url: /sites/FLEQBOM/Shared Documents/User_keydata/CSP/CSP.xlsx\n",
      "File url: /sites/FLEQBOM/Shared Documents/User_keydata/ENC/ENC.xlsx\n",
      "File url: /sites/FLEQBOM/Shared Documents/User_keydata/ENE/ENE.xlsx\n",
      "File url: /sites/FLEQBOM/Shared Documents/User_keydata/IRI/IRI.xlsx\n",
      "File url: /sites/FLEQBOM/Shared Documents/User_keydata/MCV/MCV.xlsx\n",
      "File url: /sites/FLEQBOM/Shared Documents/User_keydata/MEW/MEW.xlsx\n",
      "File url: /sites/FLEQBOM/Shared Documents/User_keydata/MSW/MSW.xlsx\n",
      "File url: /sites/FLEQBOM/Shared Documents/User_keydata/PDM/PDM.xlsx\n",
      "File url: /sites/FLEQBOM/Shared Documents/User_keydata/POL/POL.xlsx\n",
      "File url: /sites/FLEQBOM/Shared Documents/User_keydata/PP1/PP1.xlsx\n",
      "File url: /sites/FLEQBOM/Shared Documents/User_keydata/PP2/PP2.xlsx\n",
      "File url: /sites/FLEQBOM/Shared Documents/User_keydata/PPM/PPM.xlsx\n",
      "File url: /sites/FLEQBOM/Shared Documents/User_keydata/PS1/PS1.xlsx\n",
      "File url: /sites/FLEQBOM/Shared Documents/User_keydata/PS2/PS2.xlsx\n",
      "File url: /sites/FLEQBOM/Shared Documents/User_keydata/RLB/RLB.xlsx\n",
      "File url: /sites/FLEQBOM/Shared Documents/User_keydata/RPW/RPW.xlsx\n",
      "File url: /sites/FLEQBOM/Shared Documents/User_keydata/RRC/RRC.xlsx\n",
      "File url: /sites/FLEQBOM/Shared Documents/User_keydata/RRE/RRE.xlsx\n",
      "File url: /sites/FLEQBOM/Shared Documents/User_keydata/RTP/RTP.xlsx\n",
      "File url: /sites/FLEQBOM/Shared Documents/User_keydata/S24/S24.xlsx\n",
      "File url: /sites/FLEQBOM/Shared Documents/User_keydata/SKT/SKT.xlsx\n",
      "File url: /sites/FLEQBOM/Shared Documents/4users/allpg.xlsx\n",
      "File url: /sites/FLEQBOM/Shared Documents/4users/eq_class.xlsx\n",
      "File url: /sites/FLEQBOM/Shared Documents/แผนงาน/FLEQ_Roadmap.pptx\n",
      "File url: /sites/FLEQBOM/Shared Documents/แผนงาน/รายชื่อตัวแทนSAP2023.xlsx\n",
      "File url: /sites/FLEQBOM/Shared Documents/แผนงาน/STS2023 action plan  progress_Competency Development-Dec_end month Pongsak.xlsx\n",
      "File url: /sites/FLEQBOM/Shared Documents/แผนงาน/allpg.xlsx\n"
     ]
    }
   ],
   "source": [
    "# https://gist.github.com/hyunjong-lee/e0f97aa0e4c353c65c31b596765ee641\n",
    "import os\n",
    "from office365.runtime.auth.authentication_context import AuthenticationContext\n",
    "from office365.sharepoint.client_context import ClientContext\n",
    "from office365.sharepoint.files.file_system_object_type import FileSystemObjectType\n",
    "from office365.sharepoint.files.file import File\n",
    "from tqdm.notebook import tqdm\n",
    "import keyring\n",
    "\n",
    "sharepoint_user = keyring.get_password(\"sharepointonline_username\", \"username\")\n",
    "sharepoint_pass = keyring.get_password(\"sharepointonline_pass\",\"password\")\n",
    "\n",
    "baseurl = 'https://irpcplc.sharepoint.com'\n",
    "basesite = '/sites/FLEQBOM' # every share point has a home.\n",
    "docurl = '/Shared%20Documents/User_keydata'\n",
    "siteurl = baseurl + basesite \n",
    "# target_url = basesite+docurl\n",
    "\n",
    "ctx_auth = AuthenticationContext(siteurl)\n",
    "ctx_auth.acquire_token_for_user(sharepoint_user, sharepoint_pass)\n",
    "ctx = ClientContext(siteurl, ctx_auth) # make sure you auth to the siteurl.\n",
    "\n",
    "doc_lib = ctx.web.lists.get_by_title(\"Documents\")\n",
    "items = doc_lib.items.select([\"FileSystemObjectType\"]).expand([\"File\", \"Folder\"]).get().execute_query()\n",
    "folders = []\n",
    "files = []\n",
    "dst_dir = './sharepointindex'\n",
    "rmmk(dst_dir)\n",
    "for item in tqdm(items):  # type: ListItem\n",
    "    if item.file_system_object_type == FileSystemObjectType.Folder:\n",
    "        print(\"Folder url: {0}\".format(item.folder.serverRelativeUrl))\n",
    "        src_folder = item.folder.serverRelativeUrl\n",
    "        save_txt(src_folder,os.path.join(dst_dir,'sharepointfolders.txt'))\n",
    "        folders.append(item.folder.serverRelativeUrl)\n",
    "    else:\n",
    "        print(\"File url: {0}\".format(item.file.serverRelativeUrl))\n",
    "        src_file = item.file.serverRelativeUrl\n",
    "        save_txt(src_file,os.path.join(dst_dir,'sharepointfiles.txt'))\n",
    "        files.append(item.file.serverRelativeUrl)"
   ]
  },
  {
   "cell_type": "code",
   "execution_count": 6,
   "metadata": {},
   "outputs": [],
   "source": [
    "# https://stackoverflow.com/questions/53671547/python-download-files-from-sharepoint-site\n",
    "# response = File.open_binary(ctx, f\"/{filtered[1].split('/',3)[-1]}\")\n",
    "# with open(f\"./user_keydata/{filtered[1].split('/')[-1]}\", \"wb\") as local_file:\n",
    "#     local_file.write(response.content)"
   ]
  },
  {
   "cell_type": "code",
   "execution_count": 7,
   "metadata": {},
   "outputs": [],
   "source": [
    "# https://python.plainenglish.io/list-download-files-from-sharepoint-using-python-44cfc0793397\n",
    "# file_url = '/sites/FLEQBOM/Shared Documents/old_4users/11I.xlsx'\n",
    "# # response = File.open_binary(ctx, f\"/{filtered[1].split('/',3)[-1]}\")\n",
    "# with open(f\"./user_keydata/{filtered[1].split('/')[-1]}\", \"wb\") as local_file:\n",
    "#     file = ctx.web.get_file_by_server_relative_url(file_url)\n",
    "#     file.download(local_file)\n",
    "#     ctx.execute_query()"
   ]
  },
  {
   "cell_type": "code",
   "execution_count": 8,
   "metadata": {},
   "outputs": [],
   "source": [
    "# https://stackoverflow.com/questions/53671547/python-download-files-from-sharepoint-site\n",
    "# rmmk('./user_keydata')\n",
    "# filtered = filter(lambda files: 'User_keydata' in files, files)\n",
    "# filtered = list(filtered)\n",
    "# for i,f in enumerate(filtered):\n",
    "#     print(i,f)\n",
    "#     if f.split('/')[-1][0] <= 'S':\n",
    "#         response = File.open_binary(ctx, f\"/{f.split('/',3)[-1]}\")\n",
    "#         with open(f\"./user_keydata/{f.split('/')[-1]}\", \"wb\") as local_file:\n",
    "#             local_file.write(response.content)"
   ]
  },
  {
   "cell_type": "code",
   "execution_count": 9,
   "metadata": {},
   "outputs": [
    {
     "name": "stdout",
     "output_type": "stream",
     "text": [
      "0 /sites/FLEQBOM/Shared Documents/User_keydata/-/-.xlsx\n",
      "1 /sites/FLEQBOM/Shared Documents/User_keydata/11E/11E.xlsx\n",
      "2 /sites/FLEQBOM/Shared Documents/User_keydata/11I/11I.xlsx\n",
      "3 /sites/FLEQBOM/Shared Documents/User_keydata/11M/11M.xlsx\n",
      "4 /sites/FLEQBOM/Shared Documents/User_keydata/12E/12E.xlsx\n",
      "5 /sites/FLEQBOM/Shared Documents/User_keydata/12I/12I.xlsx\n",
      "6 /sites/FLEQBOM/Shared Documents/User_keydata/13E/13E.xlsx\n",
      "7 /sites/FLEQBOM/Shared Documents/User_keydata/13I/13I.xlsx\n",
      "8 /sites/FLEQBOM/Shared Documents/User_keydata/13M/13M.xlsx\n",
      "9 /sites/FLEQBOM/Shared Documents/User_keydata/14E/14E.xlsx\n",
      "10 /sites/FLEQBOM/Shared Documents/User_keydata/14M/14M.xlsx\n",
      "11 /sites/FLEQBOM/Shared Documents/User_keydata/15C/15C.xlsx\n",
      "12 /sites/FLEQBOM/Shared Documents/User_keydata/21E/21E.xlsx\n",
      "13 /sites/FLEQBOM/Shared Documents/User_keydata/21I/21I.xlsx\n",
      "14 /sites/FLEQBOM/Shared Documents/User_keydata/21M/21M.xlsx\n",
      "15 /sites/FLEQBOM/Shared Documents/User_keydata/23M/23M.xlsx\n",
      "16 /sites/FLEQBOM/Shared Documents/User_keydata/2EC/2EC.xlsx\n",
      "17 /sites/FLEQBOM/Shared Documents/User_keydata/2EH/2EH.xlsx\n",
      "18 /sites/FLEQBOM/Shared Documents/User_keydata/2IA/2IA.xlsx\n",
      "19 /sites/FLEQBOM/Shared Documents/User_keydata/2M3/2M3.xlsx\n",
      "20 /sites/FLEQBOM/Shared Documents/User_keydata/2M4/2M4.xlsx\n",
      "21 /sites/FLEQBOM/Shared Documents/User_keydata/AYM/AYM.xlsx\n",
      "22 /sites/FLEQBOM/Shared Documents/User_keydata/CAN/CAN.xlsx\n",
      "23 /sites/FLEQBOM/Shared Documents/User_keydata/CCH/CCH.xlsx\n",
      "24 /sites/FLEQBOM/Shared Documents/User_keydata/CCS/CCS.xlsx\n",
      "25 /sites/FLEQBOM/Shared Documents/User_keydata/CES/CES.xlsx\n",
      "26 /sites/FLEQBOM/Shared Documents/User_keydata/CMC/CMC.xlsx\n",
      "27 /sites/FLEQBOM/Shared Documents/User_keydata/CPM/CPM.xlsx\n",
      "28 /sites/FLEQBOM/Shared Documents/User_keydata/CRE/CRE.xlsx\n",
      "29 /sites/FLEQBOM/Shared Documents/User_keydata/CSP/CSP.xlsx\n",
      "30 /sites/FLEQBOM/Shared Documents/User_keydata/ENC/ENC.xlsx\n",
      "31 /sites/FLEQBOM/Shared Documents/User_keydata/ENE/ENE.xlsx\n",
      "32 /sites/FLEQBOM/Shared Documents/User_keydata/IRI/IRI.xlsx\n",
      "33 /sites/FLEQBOM/Shared Documents/User_keydata/MCV/MCV.xlsx\n",
      "34 /sites/FLEQBOM/Shared Documents/User_keydata/MEW/MEW.xlsx\n",
      "35 /sites/FLEQBOM/Shared Documents/User_keydata/MSW/MSW.xlsx\n",
      "36 /sites/FLEQBOM/Shared Documents/User_keydata/PDM/PDM.xlsx\n",
      "37 /sites/FLEQBOM/Shared Documents/User_keydata/POL/POL.xlsx\n",
      "38 /sites/FLEQBOM/Shared Documents/User_keydata/PP1/PP1.xlsx\n",
      "39 /sites/FLEQBOM/Shared Documents/User_keydata/PP2/PP2.xlsx\n",
      "40 /sites/FLEQBOM/Shared Documents/User_keydata/PPM/PPM.xlsx\n",
      "41 /sites/FLEQBOM/Shared Documents/User_keydata/PS1/PS1.xlsx\n",
      "42 /sites/FLEQBOM/Shared Documents/User_keydata/PS2/PS2.xlsx\n",
      "43 /sites/FLEQBOM/Shared Documents/User_keydata/RLB/RLB.xlsx\n",
      "44 /sites/FLEQBOM/Shared Documents/User_keydata/RPW/RPW.xlsx\n",
      "45 /sites/FLEQBOM/Shared Documents/User_keydata/RRC/RRC.xlsx\n",
      "46 /sites/FLEQBOM/Shared Documents/User_keydata/RRE/RRE.xlsx\n",
      "47 /sites/FLEQBOM/Shared Documents/User_keydata/RTP/RTP.xlsx\n",
      "48 /sites/FLEQBOM/Shared Documents/User_keydata/S24/S24.xlsx\n",
      "49 /sites/FLEQBOM/Shared Documents/User_keydata/SKT/SKT.xlsx\n"
     ]
    }
   ],
   "source": [
    "# https://stackoverflow.com/questions/53671547/python-download-files-from-sharepoint-site\n",
    "rmmk('./user_keydata')\n",
    "filtered = filter(lambda files: 'User_keydata' in files, files)\n",
    "filtered = list(filtered)\n",
    "for i,f in enumerate(filtered):\n",
    "    print(i,f)\n",
    "    if f.split('/')[-1][0] <= 'S':\n",
    "        with open(f\"./user_keydata/{f.split('/')[-1]}\", \"wb\") as local_file:\n",
    "            file = ctx.web.get_file_by_server_relative_url(f)\n",
    "            file.download(local_file)\n",
    "            ctx.execute_query()"
   ]
  },
  {
   "attachments": {},
   "cell_type": "markdown",
   "metadata": {},
   "source": [
    "# Make dataframe to upload to sharepoint another folder"
   ]
  },
  {
   "cell_type": "code",
   "execution_count": 10,
   "metadata": {},
   "outputs": [],
   "source": [
    "xlsx = os.listdir('./user_keydata')"
   ]
  },
  {
   "cell_type": "code",
   "execution_count": 11,
   "metadata": {},
   "outputs": [
    {
     "data": {
      "application/vnd.jupyter.widget-view+json": {
       "model_id": "09a393594f814fa39c6e08ce71440300",
       "version_major": 2,
       "version_minor": 0
      },
      "text/plain": [
       "  0%|          | 0/50 [00:00<?, ?it/s]"
      ]
     },
     "metadata": {},
     "output_type": "display_data"
    },
    {
     "name": "stderr",
     "output_type": "stream",
     "text": [
      "d:\\Anaconda3\\lib\\site-packages\\openpyxl\\worksheet\\_reader.py:312: UserWarning: Data Validation extension is not supported and will be removed\n",
      "  warn(msg)\n"
     ]
    }
   ],
   "source": [
    "df = pd.DataFrame()\n",
    "for f in tqdm(xlsx):\n",
    "    df1 = pd.read_excel(f'./user_keydata/{f}',sheet_name=f'{f[:-5]}')\n",
    "    df1 = df1[df1.columns[~df1.columns.str.startswith('Unnamed')]]\n",
    "    # df1['ExpectedPG'] = df1.apply(lambda v: v.plannerGroup_eq if v.New_PG.isnull() else v.New_PG)\n",
    "    df1 = df1.assign(ExpectedPG=np.where(df1.New_PG.isnull(), df1.plannerGroup_eq, df1.New_PG))\n",
    "    df1['file'] = f\n",
    "    df = df.append(df1)"
   ]
  },
  {
   "cell_type": "code",
   "execution_count": 12,
   "metadata": {},
   "outputs": [],
   "source": [
    "rmmk('./4dashboard')\n",
    "df.to_excel('./4dashboard/FLEQ.xlsx', index=False)"
   ]
  },
  {
   "attachments": {},
   "cell_type": "markdown",
   "metadata": {},
   "source": [
    "# Upload to sharepoint"
   ]
  },
  {
   "cell_type": "code",
   "execution_count": 13,
   "metadata": {},
   "outputs": [],
   "source": [
    "# Upload appended files to sharepoint another folder\n",
    "baseurl = 'https://irpcplc.sharepoint.com'\n",
    "basesite = '/sites/FLEQBOM' # every share point has a home.\n",
    "docurl = '/Shared%20Documents'\n",
    "siteurl = baseurl + basesite \n",
    "target_url = basesite+docurl\n",
    "ctx_auth = AuthenticationContext(siteurl)\n",
    "ctx_auth.acquire_token_for_user(sharepoint_user, sharepoint_pass)\n",
    "ctx = ClientContext(siteurl, ctx_auth) # make sure you auth to the siteurl.\n",
    "\n",
    "# target_url = basesite+docurl\n",
    "target_folder = ctx.web.get_folder_by_server_relative_url(target_url)\n",
    "\n",
    "size_chunk = 250*1024**2\n",
    "\n",
    "local_path = ''\n",
    "\n",
    "# file_size = os.path.getsize(local_path)\n",
    "\n",
    "\n",
    "def print_upload_progress(offset):\n",
    "    file_size = os.path.getsize(local_path)\n",
    "    print(\"Uploaded '{}' bytes from '{}'...[{}%]\".format(offset, file_size, round(offset / file_size * 100, 2)))\n",
    "def upload_largefile2sharepoint(file2upload=local_path):\n",
    "    t_start=pd.Timestamp.now()\n",
    "    uploaded_file = target_folder.files.create_upload_session(file2upload, size_chunk, print_upload_progress).execute_query()\n",
    "    print('File {0} has been uploaded successfully'.format(uploaded_file.serverRelativeUrl))\n",
    "    print(f'Time2Upload {file2upload}: {pd.Timestamp.now()-t_start}')"
   ]
  },
  {
   "cell_type": "code",
   "execution_count": 14,
   "metadata": {},
   "outputs": [
    {
     "data": {
      "application/vnd.jupyter.widget-view+json": {
       "model_id": "212ef7c52d27404f8f21090814347545",
       "version_major": 2,
       "version_minor": 0
      },
      "text/plain": [
       "  0%|          | 0/1 [00:00<?, ?it/s]"
      ]
     },
     "metadata": {},
     "output_type": "display_data"
    },
    {
     "name": "stdout",
     "output_type": "stream",
     "text": [
      "File /sites/FLEQBOM/Shared Documents/4Dashboard/FLEQ.xlsx has been uploaded successfully\n",
      "Time2Upload ./4dashboard/FLEQ.xlsx: 0 days 00:00:02.867529\n"
     ]
    }
   ],
   "source": [
    "files = os.listdir('./4dashboard/')\n",
    "for f in tqdm(files):\n",
    "    # target_folder = ctx.web.folders.add(str(f'{docurl[1:]}/{f[:-5]}'))\n",
    "    target_folder = ctx.web.folders.add(f'{docurl[1:]}/4Dashboard')\n",
    "    ctx.execute_query()\n",
    "    local_path = f'./4dashboard/{f}'\n",
    "    upload_largefile2sharepoint(local_path)"
   ]
  },
  {
   "cell_type": "code",
   "execution_count": 15,
   "metadata": {},
   "outputs": [
    {
     "name": "stdout",
     "output_type": "stream",
     "text": [
      "All of process run time = 0 days 00:04:34.504897\n"
     ]
    }
   ],
   "source": [
    "print(f'All of process run time = {pd.Timestamp.now()-t_start0}')"
   ]
  }
 ],
 "metadata": {
  "kernelspec": {
   "display_name": "base",
   "language": "python",
   "name": "python3"
  },
  "language_info": {
   "codemirror_mode": {
    "name": "ipython",
    "version": 3
   },
   "file_extension": ".py",
   "mimetype": "text/x-python",
   "name": "python",
   "nbconvert_exporter": "python",
   "pygments_lexer": "ipython3",
   "version": "3.9.7"
  },
  "orig_nbformat": 4,
  "vscode": {
   "interpreter": {
    "hash": "b09ec625f77bf4fd762565a912b97636504ad6ec901eb2d0f4cf5a7de23e1ee5"
   }
  }
 },
 "nbformat": 4,
 "nbformat_minor": 2
}
